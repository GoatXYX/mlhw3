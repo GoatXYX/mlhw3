{
 "cells": [
  {
   "cell_type": "markdown",
   "metadata": {
    "id": "XT0gnQuxKFTj"
   },
   "source": [
    "For this part of the homework, we will work with a subset of the CalTech-256 dataset, a widely recognized image dataset comprising a diverse collection of 256 object categories. This subset contains 10 specific classes from the CalTech-256 dataset. Your first task is to review the images in this dataset and compare how the classification task for this dataset differs from the other two datasets in this homework. You will then need to adjust and execute the code to observe how a Convolutional Neural Network (CNN) trained from scratch performs in comparison to a fine-tuned VGG16 model when applied to this specific dataset. Furthermore, you should evaluate and compare the performance of the two models on both the CalTech-256 dataset and the other dataset.\n",
    "\n",
    "For the coding task, your main objectives are as follows:\n",
    "\n",
    "+ Modify the data preprocessing functions, dataset class, and data loaders to be compatible with the CalTech-256 dataset. Please be aware that, unlike the HAM10000 dataset, the CalTech-256 dataset contains images of varying sizes.\n",
    "\n",
    "+ Modify the existing model architecture and the VGG16 model to work with this dataset."
   ]
  },
  {
   "cell_type": "markdown",
   "metadata": {
    "id": "VdPBom61n6Dl"
   },
   "source": [
    "# Download Dataset\n",
    "+ Download dataset from Box\n",
    "+ (You can download the images to your desktop by using the link https://ucsb.box.com/shared/static/vz9pmd1h7eexf2qxr5odvjy0xew5aqpo.zip)\n",
    "+ unzip dataset"
   ]
  },
  {
   "cell_type": "code",
   "execution_count": 156,
   "metadata": {
    "id": "qaTTgEgBnw6G"
   },
   "outputs": [],
   "source": [
    "# !wget -nc -O datasets.zip https://ucsb.box.com/shared/static/vz9pmd1h7eexf2qxr5odvjy0xew5aqpo.zip"
   ]
  },
  {
   "cell_type": "code",
   "execution_count": 157,
   "metadata": {
    "id": "-XqNuwYYoJql"
   },
   "outputs": [],
   "source": [
    "# !unzip -n datasets.zip"
   ]
  },
  {
   "cell_type": "markdown",
   "metadata": {
    "id": "pI4S6xMupDUs"
   },
   "source": [
    "# Import libraries"
   ]
  },
  {
   "cell_type": "code",
   "execution_count": 158,
   "metadata": {
    "id": "HwAjofYzo5pa"
   },
   "outputs": [
    {
     "name": "stdout",
     "output_type": "stream",
     "text": [
      "PyTorch Version:  2.5.1+cu124\n",
      "Torchvision Version:  0.20.1+cu124\n"
     ]
    }
   ],
   "source": [
    "import os\n",
    "\n",
    "import torch\n",
    "import torch.nn as nn\n",
    "import torch.optim as optim\n",
    "from torch.utils.data import DataLoader, random_split\n",
    "import torchvision\n",
    "from torchvision.models import vgg16, VGG16_Weights\n",
    "import numpy as np\n",
    "import pandas as pd\n",
    "from typing import Dict, Final, List, Tuple, NamedTuple, Type, Union\n",
    "from tqdm.auto import tqdm, trange\n",
    "import torch\n",
    "from torchvision import transforms, datasets\n",
    "\n",
    "import matplotlib.pyplot as plt\n",
    "\n",
    "from PIL import Image\n",
    "\n",
    "print(\"PyTorch Version: \", torch.__version__)\n",
    "print(\"Torchvision Version: \", torchvision.__version__)\n"
   ]
  },
  {
   "cell_type": "markdown",
   "metadata": {
    "id": "sN3MkZVhpOqy"
   },
   "source": [
    "# Type Definition\n",
    "Define some types for clearer labeling of our interfaces."
   ]
  },
  {
   "cell_type": "code",
   "execution_count": 159,
   "metadata": {
    "id": "lYDAX8YMpO06"
   },
   "outputs": [
    {
     "name": "stdout",
     "output_type": "stream",
     "text": [
      "loss: 1.6\n",
      "accuracy: 0.7\n",
      "LossAcc(loss=1.6, accuracy=0.7)\n"
     ]
    }
   ],
   "source": [
    "TODO = NotImplemented  # NOTE: This is a placeholder for code that needs to be written\n",
    "\n",
    "Loss: Type = float\n",
    "Accuracy: Type = float\n",
    "\n",
    "\n",
    "class LossAcc(NamedTuple):\n",
    "    loss: Loss\n",
    "    accuracy: Accuracy\n",
    "\n",
    "\n",
    "class TrainValLossAcc(NamedTuple):\n",
    "    train: List[List[LossAcc]]\n",
    "    val: List[LossAcc]\n",
    "\n",
    "\n",
    "example_result_pair: LossAcc = LossAcc(1.6, 0.7)\n",
    "print(\"loss:\", example_result_pair.loss)\n",
    "print(\"accuracy:\", example_result_pair.accuracy)\n",
    "print(example_result_pair)"
   ]
  },
  {
   "cell_type": "markdown",
   "metadata": {
    "id": "UNLnm1SepbcK"
   },
   "source": [
    "# Configurations\n",
    "Some configuration options that are required to make the dataset work with PyTorch."
   ]
  },
  {
   "cell_type": "code",
   "execution_count": 160,
   "metadata": {
    "id": "ISWwbiWBOLBN"
   },
   "outputs": [
    {
     "name": "stdout",
     "output_type": "stream",
     "text": [
      "Number of epochs:  20\n",
      "Batch size:  16\n"
     ]
    }
   ],
   "source": [
    "num_epochs: Final[int] = 20\n",
    "\n",
    "batch_size: Final[int] = 16\n",
    "\n",
    "valid_set_size: Final[float] = 0.30\n",
    "\n",
    "print(\"Number of epochs: \", num_epochs)\n",
    "print(\"Batch size: \", batch_size)\n"
   ]
  },
  {
   "cell_type": "markdown",
   "metadata": {
    "id": "sY3rskMyp8lN"
   },
   "source": [
    "# Loading CalTech-256 training data from directory\n",
    "\n",
    "1. Define Data Transforms:\n",
    "\n",
    "  + Define data transformations using `transforms.Compose`. This should include\n",
    "    + Padding to make the image a square.\n",
    "    + Conversion to a tensor. Converts a PIL Image or numpy.ndarray (H x W x C) in the range `[0, 255]` to a torch.FloatTensor of shape (C x H x W) in the range `[0.0, 1.0]`.\n",
    "    + Resizing to (224, 224).\n",
    "    + Optionally, you can include other preprocessing steps.\n",
    "  + Padding is added to maintain the aspect ratio of the image content when resizing to (224, 224).\n",
    "\n",
    "2. Load the CalTech-256 Dataset:\n",
    "\n",
    "  + Set the path to your CalTech-256 `train` dataset directory.\n",
    "  + Create the dataset using the `datasets.ImageFolder` class. This class automatically assigns labels based on the subdirectory names.\n",
    "\n",
    "3. Get Class Labels:\n",
    "\n",
    "  + Obtain the class labels (class names) from the `all_dataset.classes` attribute. This will give you a list of class labels in the order they appear in the dataset.\n"
   ]
  },
  {
   "cell_type": "code",
   "execution_count": 161,
   "metadata": {
    "id": "tlstPqA6XkYB"
   },
   "outputs": [],
   "source": [
    "# Define a custom data transform to pad the image to be square\n",
    "class SquarePad(object):\n",
    "    def __init__(self, fill_color=(0, 0, 0)):\n",
    "        self.fill_color = fill_color\n",
    "\n",
    "    def __call__(self, img):\n",
    "        width, height = img.size\n",
    "\n",
    "        # Calculate the size of the square canvas\n",
    "        size = max(width, height)\n",
    "\n",
    "        # Create a new blank image with the square size\n",
    "        new_img = Image.new('RGB', (size, size), self.fill_color)\n",
    "\n",
    "        # Paste the original image onto the center of the square canvas\n",
    "        new_img.paste(img, ((size - width) // 2, (size - height) // 2))\n",
    "\n",
    "        return new_img"
   ]
  },
  {
   "cell_type": "code",
   "execution_count": 162,
   "metadata": {
    "id": "pzvff_sUPpQY"
   },
   "outputs": [
    {
     "name": "stdout",
     "output_type": "stream",
     "text": [
      "Number of classes: 10\n",
      "1439\n"
     ]
    }
   ],
   "source": [
    "# Define the data transformations composing of\n",
    "# - Padding to make the image a square\n",
    "# - Conversion to a tensor\n",
    "# - Resize to size (224, 224)\n",
    "# Compose: https://pytorch.org/vision/main/generated/torchvision.transforms.Compose.html\n",
    "data_transforms = transforms.Compose([\n",
    "    SquarePad(),\n",
    "    transforms.Resize((224, 224)),\n",
    "    transforms.ToTensor()\n",
    "    # You can add more transformations as needed, e.g., normalization\n",
    "])\n",
    "\n",
    "# Set the path to your CalTech-256 train dataset directory\n",
    "data_dir = \"./datasets/CalTech-256/train\"  # Replace with the actual path\n",
    "\n",
    "# Create a dataset using ImageFolder\n",
    "# ImageFolder: https://pytorch.org/vision/main/generated/torchvision.datasets.ImageFolder.html\n",
    "all_dataset = datasets.ImageFolder(root=data_dir, transform=data_transforms)\n",
    "\n",
    "# get the classes attribute from all_dataset\n",
    "classes: Final[List[str]] = all_dataset.classes\n",
    "\n",
    "num_classes: Final[int] = len(classes)\n",
    "print(f'Number of classes: {len(classes)}')\n",
    "print(len(all_dataset))\n"
   ]
  },
  {
   "cell_type": "markdown",
   "metadata": {
    "id": "LORXsdND-yTX"
   },
   "source": [
    "PyTorch provides the `torch.utils.data.random_split()` function to split a dataset. This method takes a dataset and a list of lengths/ratios, and returns a list of datasets of the specified lengths/ratios. If lengths are given, the sum of the lengths must equal the length of the original dataset. If ratios are given, the sum of the ratios must equal to 1. In the configuration block above, we have already computed `test_set_sample_count` and `test_set_actual_size` for you, so you can use it to create a train/valid split.\n",
    "\n",
    "To get a consistent split, you are able to set your own random seed, though the process is more complex than for `scikit-learn`. To do so, add the argument `generator=torch.Generator().manual_seed(9)` to the `random_split()` function call. This split has produced a good class balance in our testing, but you are welcome to experiment with different `valid_set_size` and `manual_seed` values."
   ]
  },
  {
   "cell_type": "code",
   "execution_count": 163,
   "metadata": {
    "id": "G91VDMMTqgsv"
   },
   "outputs": [],
   "source": [
    "# random_split: https://pytorch.org/docs/stable/data.html#torch.utils.data.random_split\n",
    "train_dataset, val_dataset = random_split(\n",
    "    all_dataset, \n",
    "    [int(len(all_dataset) * (1 - valid_set_size)), len(all_dataset) - int(len(all_dataset) * (1 - valid_set_size))]\n",
    ")\n"
   ]
  },
  {
   "cell_type": "markdown",
   "metadata": {
    "id": "ashnU7uDkTXw"
   },
   "source": [
    "Once arranged into a `Dataset`, we wrap the `Dataset` in a `Dataloader` object. This object is used to iterate over the dataset in batches, shuffle the dataset, and perform other useful operations, like parallel data loading."
   ]
  },
  {
   "cell_type": "code",
   "execution_count": 164,
   "metadata": {
    "id": "sKrjx_AjkWob"
   },
   "outputs": [],
   "source": [
    "# DataLoader: https://pytorch.org/tutorials/beginner/basics/data_tutorial.html#preparing-your-data-for-training-with-dataloaders\n",
    "train_dataloader = DataLoader(train_dataset, batch_size=batch_size, shuffle=True, num_workers=4)\n",
    "val_dataloader = DataLoader(val_dataset, batch_size=batch_size, shuffle=False, num_workers=4)\n"
   ]
  },
  {
   "cell_type": "markdown",
   "metadata": {
    "id": "i7EIeDOmqfKn"
   },
   "source": [
    "The below visualization of class label balances is provided for your reference. The train/valid split should produce similar class label balances."
   ]
  },
  {
   "cell_type": "code",
   "execution_count": 165,
   "metadata": {
    "id": "jIeGo4yiTO7x"
   },
   "outputs": [
    {
     "data": {
      "image/png": "[encoded data removed]",
      "text/plain": [
       "<Figure size 900x400 with 1 Axes>"
      ]
     },
     "metadata": {},
     "output_type": "display_data"
    }
   ],
   "source": [
    "import numpy as np\n",
    "\n",
    "# Define a function to plot class label distribution as ratios\n",
    "def plot_class_distribution_ratios(train_dataset, val_dataset):\n",
    "    class_counts_train = [0] * len(train_dataset.dataset.classes)\n",
    "    class_counts_val = [0] * len(val_dataset.dataset.classes)\n",
    "\n",
    "    for _, label in train_dataset:\n",
    "        class_counts_train[label] += 1\n",
    "\n",
    "    for _, label in val_dataset:\n",
    "        class_counts_val[label] += 1\n",
    "\n",
    "    # Calculate the total number of samples in the entire dataset\n",
    "    total_train_samples = sum(class_counts_train)\n",
    "    total_valid_samples = sum(class_counts_val)\n",
    "\n",
    "    # Calculate class ratios\n",
    "    class_ratios_train = [count / total_train_samples for count in class_counts_train]\n",
    "    class_ratios_val = [count / total_valid_samples for count in class_counts_val]\n",
    "\n",
    "    class_labels = train_dataset.dataset.classes\n",
    "    width = 0.35\n",
    "    x = np.arange(len(class_labels))\n",
    "\n",
    "    plt.figure(figsize=(9, 4))\n",
    "    plt.bar(x - width/2, class_ratios_train, width, label='Training Set')\n",
    "    plt.bar(x + width/2, class_ratios_val, width, label='Validation Set')\n",
    "    plt.xlabel('Class Label')\n",
    "    plt.ylabel('Class Ratio (to Total Samples)')\n",
    "    plt.title('Class Ratios in Training and Validation Sets')\n",
    "    plt.xticks(x, class_labels, rotation=45)\n",
    "    plt.legend()\n",
    "    plt.show()\n",
    "\n",
    "# Plot class ratios for training and validation sets\n",
    "plot_class_distribution_ratios(train_dataset, val_dataset)"
   ]
  },
  {
   "cell_type": "markdown",
   "metadata": {
    "id": "Krjk8Nstyfx8"
   },
   "source": [
    "# Custom Neural Network Model\n",
    "\n",
    "Now we'll define a new network. We'll use this network to train on the CalTech-256 dataset. We'll use the `torch.nn` module to define the network. This module provides a number of useful building blocks for neural networks, including linear layers, convolution layers, dropout layers, maxpooling layers, activation functions, flatten function, and loss functions.\n",
    "\n",
    "If this is your absolute first interaction with PyTorch, you may find [this basic tutorial link](https://pytorch.org/tutorials/beginner/basics/buildmodel_tutorial.html) and [this CNN tutorial link](https://pytorch.org/tutorials/beginner/blitz/cifar10_tutorial.html#define-a-convolutional-neural-network) to be of use."
   ]
  },
  {
   "cell_type": "code",
   "execution_count": 166,
   "metadata": {
    "id": "rAfDaho6yZK5"
   },
   "outputs": [],
   "source": [
    "import torch.nn as nn\n",
    "\n",
    "class CalTechNetwork(nn.Module):\n",
    "    def __init__(self, dropout_prob=0.5):\n",
    "        super(CalTechNetwork, self).__init__()\n",
    "        # Define the convolutional layers\n",
    "        self.conv1 = nn.Conv2d(3, 32, kernel_size=3, padding=1)\n",
    "        self.conv2 = nn.Conv2d(32, 64, kernel_size=3, padding=1)\n",
    "        self.conv3 = nn.Conv2d(64, 128, kernel_size=3, padding=1)\n",
    "        self.conv4 = nn.Conv2d(128, 128, kernel_size=3, padding=1)\n",
    "        self.pool = nn.MaxPool2d(kernel_size=2, stride=2)\n",
    "        self.fc1 = nn.Linear(128 * 14 * 14, 128)  # Adjust the input size based on your needs\n",
    "        self.fc2 = nn.Linear(128, 10)\n",
    "        self.dropout = nn.Dropout(p=dropout_prob)\n",
    "\n",
    "    def forward(self, x):\n",
    "        x = self.pool(nn.functional.relu(self.conv1(x)))\n",
    "        x = self.dropout(x)  # Apply dropout after the first convolutional layer\n",
    "        x = self.pool(nn.functional.relu(self.conv2(x)))\n",
    "        x = self.dropout(x)  # Apply dropout after the second convolutional layer\n",
    "        x = self.pool(nn.functional.relu(self.conv3(x)))\n",
    "        x = self.dropout(x)  # Apply dropout after the third convolutional layer\n",
    "        x = self.pool(nn.functional.relu(self.conv4(x)))\n",
    "        x = self.dropout(x)  # Apply dropout after the fourth convolutional layer\n",
    "        x = x.view(x.size(0), -1)  # Adjust the input size based on your needs\n",
    "        x = nn.functional.relu(self.fc1(x))\n",
    "        x = self.dropout(x)  # Apply dropout after the first fully connected layer\n",
    "        x = self.fc2(x)\n",
    "        return x\n",
    "\n",
    "# Create an instance of the CalTechNetwork model with dropout\n",
    "dropout_prob = 0.5  # You can adjust the dropout probability as needed\n",
    "model = CalTechNetwork(dropout_prob)\n"
   ]
  },
  {
   "cell_type": "markdown",
   "metadata": {
    "id": "bBIEFjmxsRvh"
   },
   "source": [
    "# Validate Function\n",
    "\n",
    "We will define the `validate` function that evaluates the performance of the model after every training epoch. This function simply puts the network into `eval` mode, then iterates over the validation dataset and computes the accuracy and loss of the network.\n",
    "\n",
    "Accuracy computations you can perform in similar manner as you have in the past assignments. For loss computations, we will use the `torch.nn.functional.cross_entropy` function, which assumes the network outputs class logits, and computes the cross entropy loss between the logits and the ground truth labels.\n",
    "\n",
    "Some components of models behave differently whether they're under training or validation. For example, dropout layers will randomly drop out nodes during training, but will not do so during validation. To handle this, PyTorch provides the `.train()` method to set the model into training mode and the `.eval()` method to set the model into validation mode. We will use this to set the model into validation mode before computing the accuracy and loss.\n",
    "\n",
    "Running data through a model is as simple as treating the model as a function! That is, `model(data)` will run the data through the model and return the output. We can then use this output to compute the accuracy and loss.\n",
    "\n",
    "The result of `torch.tensor` computations is always more `torch.tensor`s, so use the `.item()` method to get the actual value of the loss and/or accuracy when you are ready to store it.\n",
    "\n",
    "To leverage a GPU for speeding up the computation, you should move the model, data, and labels to the GPU when a GPU is available."
   ]
  },
  {
   "cell_type": "code",
   "execution_count": 167,
   "metadata": {
    "id": "mFAChrXRsReg"
   },
   "outputs": [],
   "source": [
    "def validate(model: nn.Module, val_data: DataLoader) -> LossAcc:\n",
    "    \"\"\"\n",
    "    Returns the loss and accuracy of the model on the validation data.\n",
    "    \"\"\"\n",
    "    # Check for GPU availability:\n",
    "    device = torch.device(\"cuda\" if torch.cuda.is_available() else \"cpu\")\n",
    "\n",
    "    # Move the model to the GPU using the `.to` method\n",
    "    model = model.to(device)\n",
    "\n",
    "    # Set model to evaluation mode\n",
    "    model.eval()\n",
    "\n",
    "    # The below line sets up an environment that prevents\n",
    "    # the model from updating its weights during validation.\n",
    "    # This is helpful because we don't want to update the weights,\n",
    "    # so using this line saves us expensive gradient computations.\n",
    "    with torch.no_grad():\n",
    "        total_loss = 0\n",
    "        correct_predictions = 0\n",
    "        total_samples = 0\n",
    "\n",
    "        # Iterate through the batches of validation data\n",
    "        for data, labels in val_data:\n",
    "            # Get the data and labels from the batch\n",
    "            data, labels = data.to(device), labels.to(device)\n",
    "\n",
    "            # Get the model's predictions for the data\n",
    "            outputs = model(data)\n",
    "\n",
    "            # Calculate the average loss of this batch\n",
    "            # using `nn.functional.cross_entropy`\n",
    "            batch_loss = nn.functional.cross_entropy(outputs, labels)\n",
    "            total_loss += batch_loss.item()\n",
    "\n",
    "            # Calculate the number of correct predictions and\n",
    "            # retrieve the number of samples in this batch\n",
    "            _, preds = torch.max(outputs, dim=1)\n",
    "            correct_predictions += (preds == labels).sum().item()\n",
    "            total_samples += labels.size(0)\n",
    "\n",
    "        # Compute the accuracy and average loss over all batches.\n",
    "        accuracy = correct_predictions / total_samples\n",
    "        average_loss = total_loss / len(val_data)\n",
    "\n",
    "        return LossAcc(loss=average_loss, accuracy=accuracy)\n"
   ]
  },
  {
   "cell_type": "markdown",
   "metadata": {
    "id": "22Hr1XAyu9Pq"
   },
   "source": [
    "# Training Functions\n",
    "Now, to train a model, we have to write training functions. To ease understanding, we've broken the writing of a \"training loop\" into three functions: `train_batch` to handle a single batch, `train_epoch` to handle a single epoch, and `train_loop` to handle training as many steps as you would like.\n",
    "\n",
    "Remember, we're still using `nn.functional.cross_entropy` to compute the loss. Don't forget to set the model to `.train()` mode before training!\n",
    "\n",
    "After setting the model to training, we need to zero out the gradients from the previous step. This is because PyTorch accumulates gradients from each step, and we don't want to accumulate multiple steps of gradients after we've already used their gradients to update the model. We can zero out the gradients by calling the `.zero_grad()` method on the optimizer. Once we've computed the loss, we can call the `.backward()` method on the loss to compute the gradients. Finally, we can call the `.step()` method on the optimizer to update the model weights.\n",
    "\n",
    "To leverage a GPU for speeding up the computation, you should move the model, data, and labels to the GPU when a GPU is available."
   ]
  },
  {
   "cell_type": "code",
   "execution_count": 168,
   "metadata": {
    "id": "C8Lzk56Nr5h7"
   },
   "outputs": [],
   "source": [
    "def train_batch(\n",
    "    model: nn.Module,\n",
    "    optimizer: optim.Optimizer,\n",
    "    inputs: torch.Tensor,\n",
    "    labels: torch.Tensor,\n",
    ") -> LossAcc:\n",
    "    \"\"\"\n",
    "    Trains the model on a single batch of data.\n",
    "    Returns the loss and accuracy of the model on the batch.\n",
    "    \"\"\"\n",
    "\n",
    "    # Set model to training mode\n",
    "    model.train()\n",
    "\n",
    "    # Zero the gradients\n",
    "    optimizer.zero_grad()\n",
    "\n",
    "    # Get the model's predictions for the data\n",
    "    outputs = model(inputs)\n",
    "\n",
    "    # Calculate the loss using `nn.functional.cross_entropy`\n",
    "    loss = nn.functional.cross_entropy(outputs, labels)\n",
    "\n",
    "    # Backpropagate the loss using `backward` method\n",
    "    loss.backward()\n",
    "\n",
    "    # Update the model's weights using `step` method\n",
    "    optimizer.step()\n",
    "\n",
    "    with torch.no_grad():\n",
    "        # Calculate the accuracy\n",
    "        _, preds = torch.max(outputs, 1)\n",
    "        accuracy = (preds == labels).float().mean().item()\n",
    "\n",
    "        # Return the loss and accuracy\n",
    "        return LossAcc(loss=loss.item(), accuracy=accuracy)\n",
    "\n",
    "\n",
    "def train_epoch(\n",
    "    model: nn.Module, optimizer: optim.Optimizer, train_data: DataLoader\n",
    ") -> List[LossAcc]:\n",
    "    \"\"\"\n",
    "    Trains the model on a single epoch of data.\n",
    "    Returns a list of the loss and accuracy of the model on each batch.\n",
    "    \"\"\"\n",
    "    # Check for GPU availability:\n",
    "    device = torch.device(\"cuda\" if torch.cuda.is_available() else \"cpu\")\n",
    "\n",
    "    # Move the model to the GPU using the `.to` method\n",
    "    model = model.to(device)\n",
    "\n",
    "    # Set up a list to store the LossAcc (loss and accuracy) of the batches\n",
    "    batch_results = []\n",
    "\n",
    "    # Iterate through the batches of training data\n",
    "    for inputs, labels in train_data:\n",
    "\n",
    "        # Get the data and labels from the batch\n",
    "        inputs, labels = inputs.to(device), labels.to(device)\n",
    "\n",
    "        # Train the model on the batch with `train_batch`\n",
    "        batch_result = train_batch(model, optimizer, inputs, labels)\n",
    "\n",
    "        # Add the LossAcc to the list\n",
    "        batch_results.append(batch_result)\n",
    "\n",
    "    # Return the list of LossAcc\n",
    "    return batch_results\n",
    "\n",
    "\n",
    "def train_loop(\n",
    "    model: nn.Module,\n",
    "    optimizer: optim.Optimizer,\n",
    "    train_data: DataLoader,\n",
    "    val_data: DataLoader,\n",
    "    num_epochs: int = 10,\n",
    ") -> TrainValLossAcc:\n",
    "    \"\"\"\n",
    "    Trains the model on the training data for `num_epochs` epochs.\n",
    "    Returns the loss and accuracy of the model on the training and validation data,\n",
    "    taken per-batch in training and per-epoch in validation.\n",
    "    \"\"\"\n",
    "    # Set up a list to store the lists of training List[LossAcc]\n",
    "    # and another list to store the validation LossAcc\n",
    "    train_results = []\n",
    "    val_results = []\n",
    "\n",
    "    # Initialize variables to track the best model's state dictionary and\n",
    "    # best validation loss\n",
    "    best_val_loss = float('inf')\n",
    "    best_model_state = None\n",
    "\n",
    "    # Iterate through the epochs\n",
    "    for epoch in tqdm(range(num_epochs), desc='Training progress...'):\n",
    "\n",
    "        # Train the model on the epoch with `train_epoch`\n",
    "        epoch_train_results = train_epoch(model, optimizer, train_data)\n",
    "        train_results.append(epoch_train_results)\n",
    "\n",
    "        # Validate the model on the validation data\n",
    "        val_result = validate(model, val_data)\n",
    "        val_results.append(val_result)\n",
    "\n",
    "        # Add the loss and accuracy to the lists\n",
    "        print(f\"Epoch {epoch + 1}/{num_epochs}, Train Loss: {np.mean([r.loss for r in epoch_train_results]):.4f}, \"\n",
    "              f\"Train Accuracy: {np.mean([r.accuracy for r in epoch_train_results]):.4f}, \"\n",
    "              f\"Val Loss: {val_result.loss:.4f}, Val Accuracy: {val_result.accuracy:.4f}\")\n",
    "\n",
    "        # Update best model's state dictionary and best validation loss\n",
    "        if val_result.loss < best_val_loss:\n",
    "            best_val_loss = val_result.loss\n",
    "            best_model_state = model.state_dict()\n",
    "\n",
    "    # Load the model state dictionary with the best model's state dictionary\n",
    "    if best_model_state is not None:\n",
    "        model.load_state_dict(best_model_state)\n",
    "\n",
    "    # Return the lists of loss and accuracy\n",
    "    return TrainValLossAcc(train=train_results, val=val_results)\n"
   ]
  },
  {
   "cell_type": "markdown",
   "metadata": {
    "id": "H3s6Ws-OzmVu"
   },
   "source": [
    "# Train Custom Neural Network\n",
    "Finally, we can train your neural network! We'll use basic Stochastic Gradient Descent (SGD) as the optimization routine to train the network. We'll use a learning rate of 0.1, and train for 20 epochs. Feel free to change the optimizer and training epochs."
   ]
  },
  {
   "cell_type": "code",
   "execution_count": 169,
   "metadata": {
    "id": "hT6Fr0a3zRAK"
   },
   "outputs": [
    {
     "name": "stderr",
     "output_type": "stream",
     "text": [
      "Training progress...:   0%|          | 0/20 [00:00<?, ?it/s]"
     ]
    },
    {
     "name": "stderr",
     "output_type": "stream",
     "text": [
      "Training progress...:   5%|▌         | 1/20 [00:01<00:35,  1.88s/it]"
     ]
    },
    {
     "name": "stdout",
     "output_type": "stream",
     "text": [
      "Epoch 1/20, Train Loss: 2.2965, Train Accuracy: 0.1211, Val Loss: 2.2831, Val Accuracy: 0.1319\n"
     ]
    },
    {
     "name": "stderr",
     "output_type": "stream",
     "text": [
      "Training progress...:  10%|█         | 2/20 [00:03<00:34,  1.94s/it]"
     ]
    },
    {
     "name": "stdout",
     "output_type": "stream",
     "text": [
      "Epoch 2/20, Train Loss: 2.2773, Train Accuracy: 0.1252, Val Loss: 2.2764, Val Accuracy: 0.1319\n"
     ]
    },
    {
     "name": "stderr",
     "output_type": "stream",
     "text": [
      "Training progress...:  15%|█▌        | 3/20 [00:05<00:32,  1.90s/it]"
     ]
    },
    {
     "name": "stdout",
     "output_type": "stream",
     "text": [
      "Epoch 3/20, Train Loss: 2.2691, Train Accuracy: 0.1311, Val Loss: 2.2727, Val Accuracy: 0.1319\n"
     ]
    },
    {
     "name": "stderr",
     "output_type": "stream",
     "text": [
      "Training progress...:  20%|██        | 4/20 [00:07<00:30,  1.91s/it]"
     ]
    },
    {
     "name": "stdout",
     "output_type": "stream",
     "text": [
      "Epoch 4/20, Train Loss: 2.2650, Train Accuracy: 0.1530, Val Loss: 2.2572, Val Accuracy: 0.1319\n"
     ]
    },
    {
     "name": "stderr",
     "output_type": "stream",
     "text": [
      "Training progress...:  25%|██▌       | 5/20 [00:09<00:28,  1.93s/it]"
     ]
    },
    {
     "name": "stdout",
     "output_type": "stream",
     "text": [
      "Epoch 5/20, Train Loss: 2.2289, Train Accuracy: 0.1906, Val Loss: 2.2582, Val Accuracy: 0.2130\n"
     ]
    },
    {
     "name": "stderr",
     "output_type": "stream",
     "text": [
      "Training progress...:  30%|███       | 6/20 [00:11<00:26,  1.92s/it]"
     ]
    },
    {
     "name": "stdout",
     "output_type": "stream",
     "text": [
      "Epoch 6/20, Train Loss: 2.2079, Train Accuracy: 0.1830, Val Loss: 2.2048, Val Accuracy: 0.1713\n"
     ]
    },
    {
     "name": "stderr",
     "output_type": "stream",
     "text": [
      "Training progress...:  35%|███▌      | 7/20 [00:13<00:25,  1.93s/it]"
     ]
    },
    {
     "name": "stdout",
     "output_type": "stream",
     "text": [
      "Epoch 7/20, Train Loss: 2.2431, Train Accuracy: 0.1807, Val Loss: 2.2561, Val Accuracy: 0.1389\n"
     ]
    },
    {
     "name": "stderr",
     "output_type": "stream",
     "text": [
      "Training progress...:  40%|████      | 8/20 [00:15<00:23,  1.97s/it]"
     ]
    },
    {
     "name": "stdout",
     "output_type": "stream",
     "text": [
      "Epoch 8/20, Train Loss: 2.2051, Train Accuracy: 0.1906, Val Loss: 2.2373, Val Accuracy: 0.1991\n"
     ]
    },
    {
     "name": "stderr",
     "output_type": "stream",
     "text": [
      "Training progress...:  45%|████▌     | 9/20 [00:17<00:21,  1.95s/it]"
     ]
    },
    {
     "name": "stdout",
     "output_type": "stream",
     "text": [
      "Epoch 9/20, Train Loss: 2.1926, Train Accuracy: 0.1978, Val Loss: 2.2276, Val Accuracy: 0.2407\n"
     ]
    },
    {
     "name": "stderr",
     "output_type": "stream",
     "text": [
      "Training progress...:  50%|█████     | 10/20 [00:19<00:19,  1.95s/it]"
     ]
    },
    {
     "name": "stdout",
     "output_type": "stream",
     "text": [
      "Epoch 10/20, Train Loss: 2.1707, Train Accuracy: 0.2035, Val Loss: 2.2165, Val Accuracy: 0.2083\n"
     ]
    },
    {
     "name": "stderr",
     "output_type": "stream",
     "text": [
      "Training progress...:  55%|█████▌    | 11/20 [00:21<00:17,  1.94s/it]"
     ]
    },
    {
     "name": "stdout",
     "output_type": "stream",
     "text": [
      "Epoch 11/20, Train Loss: 2.1486, Train Accuracy: 0.2116, Val Loss: 2.0542, Val Accuracy: 0.2616\n"
     ]
    },
    {
     "name": "stderr",
     "output_type": "stream",
     "text": [
      "Training progress...:  60%|██████    | 12/20 [00:23<00:15,  1.95s/it]"
     ]
    },
    {
     "name": "stdout",
     "output_type": "stream",
     "text": [
      "Epoch 12/20, Train Loss: 2.1627, Train Accuracy: 0.2274, Val Loss: 2.1911, Val Accuracy: 0.1852\n"
     ]
    },
    {
     "name": "stderr",
     "output_type": "stream",
     "text": [
      "Training progress...:  65%|██████▌   | 13/20 [00:25<00:13,  1.96s/it]"
     ]
    },
    {
     "name": "stdout",
     "output_type": "stream",
     "text": [
      "Epoch 13/20, Train Loss: 2.1060, Train Accuracy: 0.2413, Val Loss: 2.1575, Val Accuracy: 0.2407\n"
     ]
    },
    {
     "name": "stderr",
     "output_type": "stream",
     "text": [
      "Training progress...:  70%|███████   | 14/20 [00:27<00:11,  1.96s/it]"
     ]
    },
    {
     "name": "stdout",
     "output_type": "stream",
     "text": [
      "Epoch 14/20, Train Loss: 2.0860, Train Accuracy: 0.2473, Val Loss: 2.0816, Val Accuracy: 0.2199\n"
     ]
    },
    {
     "name": "stderr",
     "output_type": "stream",
     "text": [
      "Training progress...:  75%|███████▌  | 15/20 [00:29<00:09,  1.95s/it]"
     ]
    },
    {
     "name": "stdout",
     "output_type": "stream",
     "text": [
      "Epoch 15/20, Train Loss: 2.0556, Train Accuracy: 0.2532, Val Loss: 2.0379, Val Accuracy: 0.2940\n"
     ]
    },
    {
     "name": "stderr",
     "output_type": "stream",
     "text": [
      "Training progress...:  80%|████████  | 16/20 [00:31<00:07,  1.94s/it]"
     ]
    },
    {
     "name": "stdout",
     "output_type": "stream",
     "text": [
      "Epoch 16/20, Train Loss: 2.0564, Train Accuracy: 0.2644, Val Loss: 2.0382, Val Accuracy: 0.2407\n"
     ]
    },
    {
     "name": "stderr",
     "output_type": "stream",
     "text": [
      "Training progress...:  85%|████████▌ | 17/20 [00:33<00:05,  1.97s/it]"
     ]
    },
    {
     "name": "stdout",
     "output_type": "stream",
     "text": [
      "Epoch 17/20, Train Loss: 2.0366, Train Accuracy: 0.2651, Val Loss: 2.1100, Val Accuracy: 0.2245\n"
     ]
    },
    {
     "name": "stderr",
     "output_type": "stream",
     "text": [
      "Training progress...:  90%|█████████ | 18/20 [00:35<00:03,  1.98s/it]"
     ]
    },
    {
     "name": "stdout",
     "output_type": "stream",
     "text": [
      "Epoch 18/20, Train Loss: 2.0108, Train Accuracy: 0.2612, Val Loss: 2.0467, Val Accuracy: 0.2593\n"
     ]
    },
    {
     "name": "stderr",
     "output_type": "stream",
     "text": [
      "Training progress...:  95%|█████████▌| 19/20 [00:37<00:01,  1.97s/it]"
     ]
    },
    {
     "name": "stdout",
     "output_type": "stream",
     "text": [
      "Epoch 19/20, Train Loss: 1.9743, Train Accuracy: 0.2940, Val Loss: 2.0088, Val Accuracy: 0.2384\n"
     ]
    },
    {
     "name": "stderr",
     "output_type": "stream",
     "text": [
      "Training progress...: 100%|██████████| 20/20 [00:38<00:00,  1.95s/it]"
     ]
    },
    {
     "name": "stdout",
     "output_type": "stream",
     "text": [
      "Epoch 20/20, Train Loss: 1.9244, Train Accuracy: 0.3101, Val Loss: 2.0110, Val Accuracy: 0.2407\n"
     ]
    },
    {
     "name": "stderr",
     "output_type": "stream",
     "text": [
      "\n"
     ]
    }
   ],
   "source": [
    "# Create optimizer\n",
    "optimizer = optim.SGD(model.parameters(), lr=0.1)\n",
    "\n",
    "# Train the model\n",
    "history: TrainValLossAcc = train_loop(model, optimizer, train_dataloader, val_dataloader, num_epochs=num_epochs)\n"
   ]
  },
  {
   "cell_type": "markdown",
   "metadata": {
    "id": "p_VHTU6J2mXb"
   },
   "source": [
    "We provide this visualization code, to give you a picture of what your model learned while it was training."
   ]
  },
  {
   "cell_type": "code",
   "execution_count": 170,
   "metadata": {
    "id": "f-CtC6u5z5do"
   },
   "outputs": [],
   "source": [
    "training_history = pd.DataFrame.from_records(\n",
    "    [loss for batch_losses in history.train for loss in batch_losses],\n",
    "    columns=LossAcc._fields,\n",
    ")\n",
    "training_history[\"epoch\"] = training_history.index / len(train_dataloader)\n",
    "validation_history = pd.DataFrame.from_records(history.val, columns=LossAcc._fields)\n",
    "validation_history[\"epoch\"] = validation_history.index + 1\n"
   ]
  },
  {
   "cell_type": "code",
   "execution_count": 171,
   "metadata": {
    "id": "TLrEIoRq2pvY"
   },
   "outputs": [
    {
     "data": {
      "image/png": "[encoded data removed]",
      "text/plain": [
       "<Figure size 1200x400 with 2 Axes>"
      ]
     },
     "metadata": {},
     "output_type": "display_data"
    }
   ],
   "source": [
    "\n",
    "fig, ax = plt.subplots(1, 2, figsize=(12, 4))\n",
    "ax[0].plot(training_history[\"epoch\"], training_history[\"loss\"], label=\"Training\")\n",
    "ax[0].plot(validation_history[\"epoch\"], validation_history[\"loss\"], label=\"Validation\")\n",
    "ax[0].set_xlabel(\"Epoch\")\n",
    "ax[0].set_ylabel(\"Loss\")\n",
    "ax[0].legend()\n",
    "ax[1].plot(training_history[\"epoch\"], training_history[\"accuracy\"], label=\"Training\")\n",
    "ax[1].plot(\n",
    "    validation_history[\"epoch\"], validation_history[\"accuracy\"], label=\"Validation\"\n",
    ")\n",
    "ax[1].set_xlabel(\"Epoch\")\n",
    "ax[1].set_ylabel(\"Accuracy\")\n",
    "ax[1].legend()\n",
    "plt.show()"
   ]
  },
  {
   "cell_type": "code",
   "execution_count": 172,
   "metadata": {
    "id": "HOYkT1yFyxTN"
   },
   "outputs": [
    {
     "name": "stdout",
     "output_type": "stream",
     "text": [
      "Best validation accuracy during training: 0.23842592592592593\n"
     ]
    }
   ],
   "source": [
    "# Get the validation accuracy of the best model\n",
    "# Get the accuracy corresponding to the lowest loss\n",
    "lowest_loss = validation_history['loss'].min()\n",
    "best_accuracy = validation_history.loc[validation_history['loss'] == lowest_loss, 'accuracy'].item()\n",
    "print(f'Best validation accuracy during training: {best_accuracy}')"
   ]
  },
  {
   "cell_type": "markdown",
   "metadata": {
    "id": "nqWkXoD37WX8"
   },
   "source": [
    "# Test Data Prediction: Custom Neural Network Model\n",
    "Make Predictions for the Test Data. This function is already defined for you, you just need to call it and pass in the required parameters."
   ]
  },
  {
   "cell_type": "code",
   "execution_count": 173,
   "metadata": {
    "id": "2b4spDiw7V4l"
   },
   "outputs": [],
   "source": [
    "def generate_test_predictions(model, data_transforms, test_data_dir, output_csv_path, classes):\n",
    "    # Create a DataLoader for the test dataset\n",
    "    test_dataset = datasets.ImageFolder(test_data_dir, transform=data_transforms)\n",
    "    test_loader = DataLoader(test_dataset, batch_size=64, shuffle=False)\n",
    "\n",
    "    # Load the pre-trained model\n",
    "    model.eval()\n",
    "\n",
    "    # Initialize lists to store filenames and predicted class labels\n",
    "    filenames = []\n",
    "    predicted_labels = []\n",
    "\n",
    "    # Iterate through the test dataset and make predictions\n",
    "    with torch.no_grad():\n",
    "        for inputs, _ in test_loader:\n",
    "            inputs = inputs.to('cuda' if torch.cuda.is_available() else 'cpu')\n",
    "            outputs = model(inputs)\n",
    "            _, predicted = torch.max(outputs, 1)\n",
    "\n",
    "            # Convert integer labels to class names\n",
    "            predicted_class_names = [classes[p] for p in predicted]\n",
    "\n",
    "            # predicted class labels\n",
    "            predicted_labels.extend(predicted_class_names)\n",
    "\n",
    "\n",
    "    # Get the basenames of the files\n",
    "    basenames = [os.path.basename(filename) for filename, _ in test_dataset.imgs]\n",
    "\n",
    "    # Create a DataFrame to store basenames and predicted labels\n",
    "    data = {'Basename': basenames, 'Predictions': predicted_labels}\n",
    "    df = pd.DataFrame(data)\n",
    "\n",
    "    # Sort the DataFrame by Basename\n",
    "    df.sort_values(by='Basename', inplace=True)\n",
    "\n",
    "    # drop the Basename column\n",
    "    df.drop(columns=['Basename'], inplace=True)\n",
    "\n",
    "    # Save the sorted predictions to a CSV file\n",
    "    df.to_csv(output_csv_path, index=False)\n",
    "    print(f'Predictions saved to {output_csv_path}')"
   ]
  },
  {
   "cell_type": "code",
   "execution_count": 174,
   "metadata": {
    "id": "Zv8a_6ao8s-N"
   },
   "outputs": [
    {
     "name": "stdout",
     "output_type": "stream",
     "text": [
      "Predictions saved to ./csv/caltech256_custom_nn_prediction.csv\n"
     ]
    }
   ],
   "source": [
    "# Generate test predictions and output the predictions to CSV named 'caltech256_custom_nn_prediction.csv'\n",
    "generate_test_predictions(\n",
    "    model=model,\n",
    "    data_transforms=data_transforms,\n",
    "    test_data_dir=\"datasets/CalTech-256/test\",  # Replace with the actual path to your test data directory\n",
    "    output_csv_path=\"./csv/caltech256_custom_nn_prediction.csv\",\n",
    "    classes=classes\n",
    ")\n"
   ]
  },
  {
   "cell_type": "markdown",
   "metadata": {
    "id": "XdBQp71t39Ty"
   },
   "source": [
    "# Fine-Tune VGG16"
   ]
  },
  {
   "cell_type": "markdown",
   "metadata": {
    "id": "iQTLE4N44VQx"
   },
   "source": [
    "Now, we will be fine-tuning a VGG16 model to perform the same CalTech-256 classification task and compare the performance against the custom model which is trained from scratch."
   ]
  },
  {
   "cell_type": "markdown",
   "metadata": {
    "id": "vp370LKLkQJw"
   },
   "source": [
    "# Loading CalTech-256 training data from directory (VGG16)\n",
    "\n",
    "1. Define Data Transforms:\n",
    "\n",
    "  + Define data transformations using `transforms.Compose`. This should include\n",
    "    + Padding to make the image a square.\n",
    "    + Conversion to a tensor. Converts a PIL Image or numpy.ndarray (H x W x C) in the range `[0, 255]` to a torch.FloatTensor of shape (C x H x W) in the range `[0.0, 1.0]`.\n",
    "    + Resizing to (224, 224).\n",
    "    + Normalization using the mean and standard deviation values `[0.485, 0.456, 0.406]` and `[0.229, 0.224, 0.225]`. These values are used for the pre-train ImageNet Dataset to set the values to be in the range `[-1, 1]`.\n",
    "    + Optionally, you can include other preprocessing steps.\n",
    "  + Padding is added to maintain the aspect ratio when resizing to (224, 224). The resizing to (224, 224) and normalization are performed to ensure that the images match the input shape of VGG16 in the later parts.\n",
    "\n",
    "2. Load the CalTech-256 Dataset:\n",
    "\n",
    "  + Set the path to your CalTech-256 `train` dataset directory.\n",
    "  + Create the dataset using the `datasets.ImageFolder` class. This class automatically assigns labels based on the subdirectory names.\n",
    "\n",
    "3. Get Class Labels:\n",
    "\n",
    "  + Obtain the class labels (class names) from the `all_dataset.classes` attribute. This will give you a list of class labels in the order they appear in the dataset."
   ]
  },
  {
   "cell_type": "code",
   "execution_count": 175,
   "metadata": {
    "id": "ZOsUdSTQk5Zb"
   },
   "outputs": [],
   "source": [
    "import torch\n",
    "from torchvision import transforms, datasets\n",
    "\n",
    "# Define the data transformations composing of ToTensor and\n",
    "# - Padding to make the image a square\n",
    "# - Conversion to a tensor\n",
    "# - Resize to size (224, 224)\n",
    "# - Normalization using the mean and standard deviation values\n",
    "#   `[0.485, 0.456, 0.406]` and `[0.229, 0.224, 0.225]`\n",
    "# Compose: https://pytorch.org/vision/main/generated/torchvision.transforms.Compose.html\n",
    "data_transforms = transforms.Compose([\n",
    "    SquarePad(),\n",
    "    transforms.Resize((224, 224)),\n",
    "    transforms.ToTensor(),\n",
    "    transforms.Normalize(mean=[0.485, 0.456, 0.406], std=[0.229, 0.224, 0.225])\n",
    "])\n",
    "\n",
    "# Create a dataset using ImageFolder\n",
    "# ImageFolder: https://pytorch.org/vision/main/generated/torchvision.datasets.ImageFolder.html\n",
    "all_dataset = datasets.ImageFolder(root=\"datasets/CalTech-256/train\", transform=data_transforms)  # Replace with actual path\n"
   ]
  },
  {
   "cell_type": "markdown",
   "metadata": {
    "id": "T8vxpIwbmLrg"
   },
   "source": [
    "Split Dataset into training and validation"
   ]
  },
  {
   "cell_type": "code",
   "execution_count": 176,
   "metadata": {
    "id": "WDp6zB0dmMQ8"
   },
   "outputs": [],
   "source": [
    "# random_split: https://pytorch.org/docs/stable/data.html#torch.utils.data.random_split\n",
    "train_size = int(len(all_dataset) * (1 - valid_set_size))\n",
    "val_size = len(all_dataset) - train_size  # Ensure the sum equals the dataset length\n",
    "train_dataset, val_dataset = random_split(all_dataset, [train_size, val_size])\n"
   ]
  },
  {
   "cell_type": "markdown",
   "metadata": {
    "id": "Fg9fKn8_mN5S"
   },
   "source": [
    "Once arranged into a `Dataset`, we wrap the `Dataset` in a `Dataloader` object."
   ]
  },
  {
   "cell_type": "code",
   "execution_count": 177,
   "metadata": {
    "id": "8nGzPVUxmQeJ"
   },
   "outputs": [],
   "source": [
    "# DataLoader: https://pytorch.org/tutorials/beginner/basics/data_tutorial.html#preparing-your-data-for-training-with-dataloaders\n",
    "train_dataloader = DataLoader(train_dataset, batch_size=batch_size, shuffle=True, num_workers=4)\n",
    "val_dataloader = DataLoader(val_dataset, batch_size=batch_size, shuffle=False, num_workers=4)\n"
   ]
  },
  {
   "cell_type": "markdown",
   "metadata": {
    "id": "SbxtR7kREi0f"
   },
   "source": [
    "# Overview of Fine-Tuning VGG16\n",
    "\n",
    "VGG16 is a popular deep convolutional neural network architecture used for various computer vision tasks. It consists of two main components: the \"features\" part and the \"classifier\" part. Fine-tuning VGG16 involves adjusting these components to adapt the pre-trained model to a new task.\n",
    "\n",
    "Components of VGG16\n",
    "1. Features Layers:\n",
    "The \"features\" part of VGG16 comprises a stack of convolutional and max-pooling layers. These layers serve as feature extractors and are responsible for capturing hierarchical features from the input image.\n",
    "These layers are typically frozen during fine-tuning when using transfer learning. Freezing means that the weights of these layers are not updated during training to preserve the pre-trained knowledge.\n",
    "2. Classifier Layers:\n",
    "The \"classifier\" part of VGG16 consists of fully connected layers (also known as dense layers). These layers are responsible for making predictions based on the extracted features.\n",
    "During fine-tuning, the classifier layers are often replaced by a new set of fully connected layers to adapt the model to the specific task.\n",
    "---"
   ]
  },
  {
   "cell_type": "markdown",
   "metadata": {
    "id": "pnbVLEPTExn-"
   },
   "source": [
    "Load the Pre-Trained VGG16 Model:\n",
    "\n",
    "Begin by loading the pre-trained VGG16 model with weights 'IMAGENET1K_V1', which includes both the features and classifier components. You can do this using PyTorch's torchvision.models."
   ]
  },
  {
   "cell_type": "code",
   "execution_count": 178,
   "metadata": {
    "id": "2EEZ8p7k2qsC"
   },
   "outputs": [],
   "source": [
    "import torchvision.models as models\n",
    "\n",
    "# Load VGG16 model with weights 'IMAGENET1K_V1'\n",
    "model = models.vgg16(weights=models.VGG16_Weights.IMAGENET1K_V1)\n"
   ]
  },
  {
   "cell_type": "markdown",
   "metadata": {
    "id": "wBNEPlAcD88p"
   },
   "source": [
    "Freeze the Features Layers:\n",
    "\n",
    "Disable gradient updates to prevent them from changing during training. This step ensures that the model retains its ability to extract relevant features from the data."
   ]
  },
  {
   "cell_type": "code",
   "execution_count": 179,
   "metadata": {
    "id": "BGU_IYWq6He2"
   },
   "outputs": [],
   "source": [
    "# Get the features part of the model\n",
    "features = model.features\n",
    "\n",
    "# Freeze the feature layers\n",
    "for param in features.parameters():\n",
    "    param.requires_grad = False\n"
   ]
  },
  {
   "cell_type": "markdown",
   "metadata": {
    "id": "gmoBdEG5FXvr"
   },
   "source": [
    "Define and Replace the Classifier:\n",
    "\n",
    "\n",
    "+ Replace only the last layer to have 10 output units for the CalTech-256 dataset. Note: Last classifier layer has 4096 input units.\n",
    "+ Set the last layer to require gradients for fine-tuning."
   ]
  },
  {
   "cell_type": "code",
   "execution_count": 180,
   "metadata": {
    "id": "H-1XLZEs5enP"
   },
   "outputs": [],
   "source": [
    "# Modify the last layer to have 10 output units for the CalTech-256 dataset\n",
    "model.classifier[-1] = nn.Linear(model.classifier[-1].in_features, 10)\n",
    "\n",
    "# Set the last layer to require gradients for fine-tuning\n",
    "for param in model.classifier[-1].parameters():\n",
    "    param.requires_grad = True\n"
   ]
  },
  {
   "cell_type": "markdown",
   "metadata": {
    "id": "mSXrVI-V4Voq"
   },
   "source": [
    "# Fine-Tune VGG16 Model"
   ]
  },
  {
   "cell_type": "code",
   "execution_count": 181,
   "metadata": {
    "id": "kyfsOfAO4Q3m"
   },
   "outputs": [
    {
     "name": "stderr",
     "output_type": "stream",
     "text": [
      "Training progress...:   0%|          | 0/20 [00:00<?, ?it/s]"
     ]
    },
    {
     "name": "stderr",
     "output_type": "stream",
     "text": [
      "Training progress...:   5%|▌         | 1/20 [00:04<01:28,  4.65s/it]"
     ]
    },
    {
     "name": "stdout",
     "output_type": "stream",
     "text": [
      "Epoch 1/20, Train Loss: 0.7775, Train Accuracy: 0.7768, Val Loss: 0.2979, Val Accuracy: 0.9005\n"
     ]
    },
    {
     "name": "stderr",
     "output_type": "stream",
     "text": [
      "Training progress...:  10%|█         | 2/20 [00:09<01:23,  4.64s/it]"
     ]
    },
    {
     "name": "stdout",
     "output_type": "stream",
     "text": [
      "Epoch 2/20, Train Loss: 0.2211, Train Accuracy: 0.9464, Val Loss: 0.2440, Val Accuracy: 0.9028\n"
     ]
    },
    {
     "name": "stderr",
     "output_type": "stream",
     "text": [
      "Training progress...:  15%|█▌        | 3/20 [00:14<01:19,  4.70s/it]"
     ]
    },
    {
     "name": "stdout",
     "output_type": "stream",
     "text": [
      "Epoch 3/20, Train Loss: 0.0894, Train Accuracy: 0.9821, Val Loss: 0.2162, Val Accuracy: 0.9259\n"
     ]
    },
    {
     "name": "stderr",
     "output_type": "stream",
     "text": [
      "Training progress...:  20%|██        | 4/20 [00:18<01:15,  4.74s/it]"
     ]
    },
    {
     "name": "stdout",
     "output_type": "stream",
     "text": [
      "Epoch 4/20, Train Loss: 0.0526, Train Accuracy: 0.9909, Val Loss: 0.2130, Val Accuracy: 0.9282\n"
     ]
    },
    {
     "name": "stderr",
     "output_type": "stream",
     "text": [
      "Training progress...:  25%|██▌       | 5/20 [00:23<01:09,  4.66s/it]"
     ]
    },
    {
     "name": "stdout",
     "output_type": "stream",
     "text": [
      "Epoch 5/20, Train Loss: 0.0349, Train Accuracy: 0.9940, Val Loss: 0.2008, Val Accuracy: 0.9213\n"
     ]
    },
    {
     "name": "stderr",
     "output_type": "stream",
     "text": [
      "Training progress...:  30%|███       | 6/20 [00:28<01:05,  4.66s/it]"
     ]
    },
    {
     "name": "stdout",
     "output_type": "stream",
     "text": [
      "Epoch 6/20, Train Loss: 0.0247, Train Accuracy: 0.9980, Val Loss: 0.1944, Val Accuracy: 0.9282\n"
     ]
    },
    {
     "name": "stderr",
     "output_type": "stream",
     "text": [
      "Training progress...:  35%|███▌      | 7/20 [00:32<01:01,  4.70s/it]"
     ]
    },
    {
     "name": "stdout",
     "output_type": "stream",
     "text": [
      "Epoch 7/20, Train Loss: 0.0182, Train Accuracy: 0.9970, Val Loss: 0.1900, Val Accuracy: 0.9236\n"
     ]
    },
    {
     "name": "stderr",
     "output_type": "stream",
     "text": [
      "Training progress...:  40%|████      | 8/20 [00:37<00:56,  4.73s/it]"
     ]
    },
    {
     "name": "stdout",
     "output_type": "stream",
     "text": [
      "Epoch 8/20, Train Loss: 0.0170, Train Accuracy: 0.9990, Val Loss: 0.1919, Val Accuracy: 0.9236\n"
     ]
    },
    {
     "name": "stderr",
     "output_type": "stream",
     "text": [
      "Training progress...:  45%|████▌     | 9/20 [00:42<00:51,  4.65s/it]"
     ]
    },
    {
     "name": "stdout",
     "output_type": "stream",
     "text": [
      "Epoch 9/20, Train Loss: 0.0124, Train Accuracy: 0.9990, Val Loss: 0.1870, Val Accuracy: 0.9306\n"
     ]
    },
    {
     "name": "stderr",
     "output_type": "stream",
     "text": [
      "Training progress...:  50%|█████     | 10/20 [00:46<00:46,  4.68s/it]"
     ]
    },
    {
     "name": "stdout",
     "output_type": "stream",
     "text": [
      "Epoch 10/20, Train Loss: 0.0112, Train Accuracy: 0.9990, Val Loss: 0.1979, Val Accuracy: 0.9282\n"
     ]
    },
    {
     "name": "stderr",
     "output_type": "stream",
     "text": [
      "Training progress...:  55%|█████▌    | 11/20 [00:51<00:42,  4.70s/it]"
     ]
    },
    {
     "name": "stdout",
     "output_type": "stream",
     "text": [
      "Epoch 11/20, Train Loss: 0.0087, Train Accuracy: 1.0000, Val Loss: 0.1937, Val Accuracy: 0.9329\n"
     ]
    },
    {
     "name": "stderr",
     "output_type": "stream",
     "text": [
      "Training progress...:  60%|██████    | 12/20 [00:56<00:37,  4.72s/it]"
     ]
    },
    {
     "name": "stdout",
     "output_type": "stream",
     "text": [
      "Epoch 12/20, Train Loss: 0.0079, Train Accuracy: 0.9990, Val Loss: 0.1988, Val Accuracy: 0.9259\n"
     ]
    },
    {
     "name": "stderr",
     "output_type": "stream",
     "text": [
      "Training progress...:  65%|██████▌   | 13/20 [01:00<00:32,  4.64s/it]"
     ]
    },
    {
     "name": "stdout",
     "output_type": "stream",
     "text": [
      "Epoch 13/20, Train Loss: 0.0066, Train Accuracy: 1.0000, Val Loss: 0.2026, Val Accuracy: 0.9259\n"
     ]
    },
    {
     "name": "stderr",
     "output_type": "stream",
     "text": [
      "Training progress...:  70%|███████   | 14/20 [01:05<00:27,  4.67s/it]"
     ]
    },
    {
     "name": "stdout",
     "output_type": "stream",
     "text": [
      "Epoch 14/20, Train Loss: 0.0059, Train Accuracy: 1.0000, Val Loss: 0.2014, Val Accuracy: 0.9282\n"
     ]
    },
    {
     "name": "stderr",
     "output_type": "stream",
     "text": [
      "Training progress...:  75%|███████▌  | 15/20 [01:10<00:23,  4.70s/it]"
     ]
    },
    {
     "name": "stdout",
     "output_type": "stream",
     "text": [
      "Epoch 15/20, Train Loss: 0.0049, Train Accuracy: 1.0000, Val Loss: 0.2002, Val Accuracy: 0.9352\n"
     ]
    },
    {
     "name": "stderr",
     "output_type": "stream",
     "text": [
      "Training progress...:  80%|████████  | 16/20 [01:15<00:18,  4.70s/it]"
     ]
    },
    {
     "name": "stdout",
     "output_type": "stream",
     "text": [
      "Epoch 16/20, Train Loss: 0.0053, Train Accuracy: 0.9990, Val Loss: 0.1962, Val Accuracy: 0.9352\n"
     ]
    },
    {
     "name": "stderr",
     "output_type": "stream",
     "text": [
      "Training progress...:  85%|████████▌ | 17/20 [01:19<00:13,  4.64s/it]"
     ]
    },
    {
     "name": "stdout",
     "output_type": "stream",
     "text": [
      "Epoch 17/20, Train Loss: 0.0045, Train Accuracy: 1.0000, Val Loss: 0.1950, Val Accuracy: 0.9352\n"
     ]
    },
    {
     "name": "stderr",
     "output_type": "stream",
     "text": [
      "Training progress...:  90%|█████████ | 18/20 [01:24<00:09,  4.67s/it]"
     ]
    },
    {
     "name": "stdout",
     "output_type": "stream",
     "text": [
      "Epoch 18/20, Train Loss: 0.0033, Train Accuracy: 1.0000, Val Loss: 0.2021, Val Accuracy: 0.9352\n"
     ]
    },
    {
     "name": "stderr",
     "output_type": "stream",
     "text": [
      "Training progress...:  95%|█████████▌| 19/20 [01:29<00:04,  4.70s/it]"
     ]
    },
    {
     "name": "stdout",
     "output_type": "stream",
     "text": [
      "Epoch 19/20, Train Loss: 0.0035, Train Accuracy: 1.0000, Val Loss: 0.2017, Val Accuracy: 0.9329\n"
     ]
    },
    {
     "name": "stderr",
     "output_type": "stream",
     "text": [
      "Training progress...: 100%|██████████| 20/20 [01:33<00:00,  4.69s/it]"
     ]
    },
    {
     "name": "stdout",
     "output_type": "stream",
     "text": [
      "Epoch 20/20, Train Loss: 0.0034, Train Accuracy: 1.0000, Val Loss: 0.2018, Val Accuracy: 0.9306\n"
     ]
    },
    {
     "name": "stderr",
     "output_type": "stream",
     "text": [
      "\n"
     ]
    }
   ],
   "source": [
    "# Create optimizer\n",
    "optimizer = optim.SGD(model.parameters(), lr=0.001, momentum=0.9)\n",
    "\n",
    "# Train the model\n",
    "history: TrainValLossAcc = train_loop(model, optimizer, train_dataloader, val_dataloader, num_epochs=num_epochs)\n"
   ]
  },
  {
   "cell_type": "markdown",
   "metadata": {
    "id": "O05P97Vcw7HB"
   },
   "source": [
    "We provide this visualization code, to give you a picture of what your model learned while it was training."
   ]
  },
  {
   "cell_type": "code",
   "execution_count": 182,
   "metadata": {
    "id": "3vEQM-6K4S_W"
   },
   "outputs": [],
   "source": [
    "training_history = pd.DataFrame.from_records(\n",
    "    [loss for batch_losses in history.train for loss in batch_losses],\n",
    "    columns=LossAcc._fields,\n",
    ")\n",
    "training_history[\"epoch\"] = training_history.index / len(train_dataloader)\n",
    "validation_history = pd.DataFrame.from_records(history.val, columns=LossAcc._fields)\n",
    "validation_history[\"epoch\"] = validation_history.index + 1\n"
   ]
  },
  {
   "cell_type": "code",
   "execution_count": 183,
   "metadata": {
    "id": "20v5Zp0z4UbS"
   },
   "outputs": [
    {
     "data": {
      "image/png": "[encoded data removed]",
      "text/plain": [
       "<Figure size 1200x400 with 2 Axes>"
      ]
     },
     "metadata": {},
     "output_type": "display_data"
    }
   ],
   "source": [
    "fig, ax = plt.subplots(1, 2, figsize=(12, 4))\n",
    "ax[0].plot(training_history[\"epoch\"], training_history[\"loss\"], label=\"Training\")\n",
    "ax[0].plot(validation_history[\"epoch\"], validation_history[\"loss\"], label=\"Validation\")\n",
    "ax[0].set_xlabel(\"Epoch\")\n",
    "ax[0].set_ylabel(\"Loss\")\n",
    "ax[0].legend()\n",
    "ax[1].plot(training_history[\"epoch\"], training_history[\"accuracy\"], label=\"Training\")\n",
    "ax[1].plot(\n",
    "    validation_history[\"epoch\"], validation_history[\"accuracy\"], label=\"Validation\"\n",
    ")\n",
    "ax[1].set_xlabel(\"Epoch\")\n",
    "ax[1].set_ylabel(\"Accuracy\")\n",
    "ax[1].legend()\n",
    "plt.show()"
   ]
  },
  {
   "cell_type": "code",
   "execution_count": 184,
   "metadata": {
    "id": "KiSZyP9QxukH"
   },
   "outputs": [
    {
     "name": "stdout",
     "output_type": "stream",
     "text": [
      "Best validation accuracy during training: 0.9305555555555556\n"
     ]
    }
   ],
   "source": [
    "# Get the validation accuracy of the best model\n",
    "# Get the accuracy corresponding to the lowest loss\n",
    "lowest_loss = validation_history['loss'].min()\n",
    "best_accuracy = validation_history.loc[validation_history['loss'] == lowest_loss, 'accuracy'].item()\n",
    "print(f'Best validation accuracy during training: {best_accuracy}')"
   ]
  },
  {
   "cell_type": "markdown",
   "metadata": {
    "id": "9u_u2Zy5n92Q"
   },
   "source": [
    "# Test Data Prediction: VGG16\n"
   ]
  },
  {
   "cell_type": "code",
   "execution_count": 185,
   "metadata": {
    "id": "G3Q29RWD7l_j"
   },
   "outputs": [
    {
     "name": "stdout",
     "output_type": "stream",
     "text": [
      "Predictions saved to ./csv/caltech256_vgg16_nn_prediction.csv\n"
     ]
    }
   ],
   "source": [
    "# Generate test predictions and output the predictions to CSV named 'caltech256_custom_nn_prediction.csv'\n",
    "generate_test_predictions(\n",
    "    model=model,\n",
    "    data_transforms=data_transforms,\n",
    "    test_data_dir=\"datasets/CalTech-256/test\",  # Replace with the actual path to your test data directory\n",
    "    output_csv_path=\"./csv/caltech256_vgg16_nn_prediction.csv\",\n",
    "    classes=classes\n",
    ")\n"
   ]
  },
  {
   "cell_type": "code",
   "execution_count": null,
   "metadata": {},
   "outputs": [],
   "source": []
  }
 ],
 "metadata": {
  "accelerator": "GPU",
  "colab": {
   "gpuType": "T4",
   "provenance": []
  },
  "kernelspec": {
   "display_name": "mlhw3",
   "language": "python",
   "name": "python3"
  },
  "language_info": {
   "codemirror_mode": {
    "name": "ipython",
    "version": 3
   },
   "file_extension": ".py",
   "mimetype": "text/x-python",
   "name": "python",
   "nbconvert_exporter": "python",
   "pygments_lexer": "ipython3",
   "version": "3.10.15"
  }
 },
 "nbformat": 4,
 "nbformat_minor": 0
}
